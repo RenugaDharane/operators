{
 "cells": [
  {
   "cell_type": "code",
   "execution_count": 1,
   "metadata": {},
   "outputs": [
    {
     "name": "stdout",
     "output_type": "stream",
     "text": [
      "125\n"
     ]
    }
   ],
   "source": [
    "#1: Arithmatic operators(Addition,Subtraction,Multiplication,Division,Modulus,Exponentiation,Floor division)\n",
    "x = 5\n",
    "y = 3\n",
    "\n",
    "print(x ** y)\n"
   ]
  },
  {
   "cell_type": "code",
   "execution_count": 3,
   "metadata": {},
   "outputs": [
    {
     "name": "stdout",
     "output_type": "stream",
     "text": [
      "6\n"
     ]
    }
   ],
   "source": [
    "#2:Assignment Operators\n",
    "x = 5\n",
    "\n",
    "x ^= 3\n",
    "\n",
    "print(x)\n"
   ]
  },
  {
   "cell_type": "code",
   "execution_count": 4,
   "metadata": {},
   "outputs": [
    {
     "name": "stdout",
     "output_type": "stream",
     "text": [
      "True\n"
     ]
    }
   ],
   "source": [
    "#3: Comparison Operators\n",
    "x = 5\n",
    "y = 3\n",
    "\n",
    "print(x >= y)"
   ]
  },
  {
   "cell_type": "code",
   "execution_count": 5,
   "metadata": {},
   "outputs": [
    {
     "name": "stdout",
     "output_type": "stream",
     "text": [
      "False\n"
     ]
    }
   ],
   "source": [
    "#4:Logical Operators(and,or,not)\n",
    "x = 5\n",
    "\n",
    "print(not(x > 3 and x < 10))"
   ]
  },
  {
   "cell_type": "code",
   "execution_count": 7,
   "metadata": {},
   "outputs": [
    {
     "name": "stdout",
     "output_type": "stream",
     "text": [
      "True\n",
      "False\n",
      "False\n"
     ]
    }
   ],
   "source": [
    "#5: Identity Operators\n",
    "x = [\"leo\", \"taurus\"]\n",
    "y = [\"leo\", \"pisces\"]\n",
    "z = x\n",
    "\n",
    "print(x is z)\n",
    "print(x is y)\n",
    "print(x == y)\n"
   ]
  },
  {
   "cell_type": "code",
   "execution_count": 10,
   "metadata": {},
   "outputs": [
    {
     "name": "stdout",
     "output_type": "stream",
     "text": [
      "False\n"
     ]
    }
   ],
   "source": [
    "#6: Membership Operators\n",
    "x = [\"leo\", \"pisces\"]\n",
    "\n",
    "print(\"libra\" in x)\n"
   ]
  },
  {
   "cell_type": "code",
   "execution_count": 13,
   "metadata": {},
   "outputs": [
    {
     "name": "stdout",
     "output_type": "stream",
     "text": [
      "a & b = 0\n",
      "a | b = 14\n",
      "~a = -11\n",
      "a ^ b = 14\n"
     ]
    }
   ],
   "source": [
    "#7: Bitwise Operators\n",
    "a = 10\n",
    "b = 4    \n",
    "print(\"a & b =\", a & b)   \n",
    "print(\"a | b =\", a | b)   \n",
    "print(\"~a =\", ~a)    \n",
    "print(\"a ^ b =\", a ^ b)  "
   ]
  },
  {
   "cell_type": "code",
   "execution_count": null,
   "metadata": {},
   "outputs": [],
   "source": []
  },
  {
   "cell_type": "code",
   "execution_count": null,
   "metadata": {},
   "outputs": [],
   "source": []
  }
 ],
 "metadata": {
  "kernelspec": {
   "display_name": "Python 3",
   "language": "python",
   "name": "python3"
  },
  "language_info": {
   "codemirror_mode": {
    "name": "ipython",
    "version": 3
   },
   "file_extension": ".py",
   "mimetype": "text/x-python",
   "name": "python",
   "nbconvert_exporter": "python",
   "pygments_lexer": "ipython3",
   "version": "3.8.3"
  }
 },
 "nbformat": 4,
 "nbformat_minor": 4
}
